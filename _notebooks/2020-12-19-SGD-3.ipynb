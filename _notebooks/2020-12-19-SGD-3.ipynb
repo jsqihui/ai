{
  "nbformat": 4,
  "nbformat_minor": 0,
  "metadata": {
    "colab": {
      "name": "2020-12-19-SGD-3.ipynb",
      "provenance": [],
      "collapsed_sections": [],
      "authorship_tag": "ABX9TyPNCJ+e7zu/ymg0qXuSJ8Nv",
      "include_colab_link": true
    },
    "kernelspec": {
      "name": "python3",
      "display_name": "Python 3"
    },
    "accelerator": "GPU"
  },
  "cells": [
    {
      "cell_type": "markdown",
      "metadata": {
        "id": "view-in-github",
        "colab_type": "text"
      },
      "source": [
        "<a href=\"https://colab.research.google.com/github/jsqihui/ai/blob/master/_notebooks/2020-12-19-SGD-3.ipynb\" target=\"_parent\"><img src=\"https://colab.research.google.com/assets/colab-badge.svg\" alt=\"Open In Colab\"/></a>"
      ]
    },
    {
      "cell_type": "markdown",
      "metadata": {
        "id": "Rz7zuSy1Skpc"
      },
      "source": [
        "# SGD 实验3\r\n",
        "> 利用现有的模型和一些fastbook API (基于fast.ai lesson 4)\r\n",
        "\r\n",
        "- toc:true\r\n",
        "- branch: master\r\n",
        "- badges: true\r\n",
        "- comments: true\r\n",
        "- author: jsqihui\r\n",
        "- categories: [fast.ai]\r\n",
        "\r\n"
      ]
    },
    {
      "cell_type": "code",
      "metadata": {
        "id": "GBpqe_FH6Zof",
        "colab": {
          "base_uri": "https://localhost:8080/"
        },
        "outputId": "5c3bc3a7-7b47-4f4a-9979-a9657a2353b3"
      },
      "source": [
        "#hide\n",
        "!pip install -Uqq fastbook\n",
        "import fastbook\n",
        "fastbook.setup_book()\n",
        "\n",
        "from fastai.vision.all import *\n",
        "from fastbook import *\n",
        "\n",
        "matplotlib.rc('image', cmap='Greys')"
      ],
      "execution_count": 1,
      "outputs": [
        {
          "output_type": "stream",
          "text": [
            "\u001b[K     |████████████████████████████████| 727kB 12.0MB/s \n",
            "\u001b[K     |████████████████████████████████| 1.1MB 7.6MB/s \n",
            "\u001b[K     |████████████████████████████████| 194kB 10.1MB/s \n",
            "\u001b[K     |████████████████████████████████| 51kB 4.6MB/s \n",
            "\u001b[K     |████████████████████████████████| 61kB 5.5MB/s \n",
            "\u001b[?25hMounted at /content/gdrive\n"
          ],
          "name": "stdout"
        }
      ]
    },
    {
      "cell_type": "markdown",
      "metadata": {
        "id": "K_dHeiH1KVMR"
      },
      "source": [
        "# mnist实例"
      ]
    },
    {
      "cell_type": "code",
      "metadata": {
        "colab": {
          "base_uri": "https://localhost:8080/",
          "height": 17
        },
        "id": "ngIsBX-T9Uys",
        "outputId": "55f9aa5f-ed75-4950-a32b-d6395926b63b"
      },
      "source": [
        "path = untar_data(URLs.MNIST_SAMPLE)\r\n",
        "Path.BASE_PATH = path"
      ],
      "execution_count": 2,
      "outputs": [
        {
          "output_type": "display_data",
          "data": {
            "text/html": [
              ""
            ],
            "text/plain": [
              "<IPython.core.display.HTML object>"
            ]
          },
          "metadata": {
            "tags": []
          }
        }
      ]
    },
    {
      "cell_type": "code",
      "metadata": {
        "id": "E3yFqKq05wHM",
        "colab": {
          "base_uri": "https://localhost:8080/",
          "height": 79
        },
        "outputId": "e348a0c4-1753-4305-a62c-b26638c41a08"
      },
      "source": [
        "dls = ImageDataLoaders.from_folder(path)\n",
        "learn = cnn_learner(dls, resnet18, pretrained=False,\n",
        "                    loss_func=F.cross_entropy, metrics=accuracy)\n",
        "learn.fit_one_cycle(1)"
      ],
      "execution_count": 12,
      "outputs": [
        {
          "output_type": "display_data",
          "data": {
            "text/html": [
              "<table border=\"1\" class=\"dataframe\">\n",
              "  <thead>\n",
              "    <tr style=\"text-align: left;\">\n",
              "      <th>epoch</th>\n",
              "      <th>train_loss</th>\n",
              "      <th>valid_loss</th>\n",
              "      <th>accuracy</th>\n",
              "      <th>time</th>\n",
              "    </tr>\n",
              "  </thead>\n",
              "  <tbody>\n",
              "    <tr>\n",
              "      <td>0</td>\n",
              "      <td>0.038415</td>\n",
              "      <td>0.007183</td>\n",
              "      <td>0.997547</td>\n",
              "      <td>00:19</td>\n",
              "    </tr>\n",
              "  </tbody>\n",
              "</table>"
            ],
            "text/plain": [
              "<IPython.core.display.HTML object>"
            ]
          },
          "metadata": {
            "tags": []
          }
        }
      ]
    },
    {
      "cell_type": "markdown",
      "metadata": {
        "id": "P3e1J89cIOkW"
      },
      "source": [
        "fastai的lib简化了很多步骤，首先创造DataLoaders，这里可以同时载入training和validation，然后创建learner，这里相当于选定了architecture，也就是resnet18，然后自动初始化了参数,然后loss function是选择F.cross_entropy，metrics也选了accuracy，这里的accuracy也是predefined的一个function。default的optimizer是Adam,learning rate是0.1还有很多其他选项可以调整。\r\n",
        "\r\n",
        "最后fit_one_cycle就是run一次epoch，其中也有很多参数可以调，详见[cnn_learner](https://docs.fast.ai/vision.learner.html#cnn_learner)"
      ]
    }
  ]
}